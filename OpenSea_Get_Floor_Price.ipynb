{
 "cells": [
  {
   "cell_type": "markdown",
   "id": "4f4420d5-2cde-4e39-8578-4818ccfd8873",
   "metadata": {},
   "source": [
    "# Documentation \n",
    "#### https://docs.opensea.io/reference/api-overview"
   ]
  },
  {
   "cell_type": "markdown",
   "id": "645bc8a7-7454-43f5-b5c4-4bdf567d09d6",
   "metadata": {},
   "source": [
    "# Code"
   ]
  },
  {
   "cell_type": "code",
   "execution_count": 1,
   "id": "e3f04396-1055-4cee-b174-765526b1443d",
   "metadata": {},
   "outputs": [],
   "source": [
    "def get_floor(projects):\n",
    "    import requests\n",
    "    import json\n",
    "    try:\n",
    "        if type(projects) == list:\n",
    "            for project in projects:\n",
    "                url = ''.join(['https://','api.opensea.io/','api/','v1/','collection/',project,'/stats'])\n",
    "\n",
    "                #getting information\n",
    "                headers = {'Accept':'application/json'}\n",
    "                response = requests.request(\"GET\", url, headers = headers)\n",
    "\n",
    "                #converting received data to dictionary - pulling information\n",
    "                d= json.loads(response.text)\n",
    "                fp = d['stats']['floor_price']\n",
    "                print(project,'Floor Price',fp)\n",
    "        else:\n",
    "            print(\"Sorry, enter a list!\")\n",
    "    except:\n",
    "        print(\"Sorry, something went wrong\")"
   ]
  },
  {
   "cell_type": "markdown",
   "id": "bc7ac0c8-c22f-42d3-a29f-79fcb3560f3c",
   "metadata": {},
   "source": [
    "## Enter parameters here"
   ]
  },
  {
   "cell_type": "code",
   "execution_count": 2,
   "id": "eb7156ad-3d7b-4fcd-8b0a-21a9306c2bd2",
   "metadata": {},
   "outputs": [
    {
     "name": "stdout",
     "output_type": "stream",
     "text": [
      "azuki Floor Price 4.39999999\n",
      "hustlersofwallst Floor Price 0.2237\n",
      "hapeprime Floor Price 7.4\n",
      "boredapeyachtclub Floor Price 93.0\n",
      "metroverse Floor Price 1.9\n",
      "cryptopunks Floor Price None\n",
      "xrc Floor Price 0.67\n",
      "cryptobatz-by-ozzy-osbourne Floor Price 1.1\n",
      "mutant-ape-yacht-club Floor Price 16.99\n",
      "lil-heroes-by-edgar-plans Floor Price 1.71\n"
     ]
    }
   ],
   "source": [
    "#Enter a list of projects you're interested in.\n",
    "# if a link to the collection is https://opensea.io/collection/azuki \n",
    "# the entered name is 'azuki'\n",
    "\n",
    "#enter project names\n",
    "projects = ['azuki','hustlersofwallst','hapeprime','boredapeyachtclub','metroverse','cryptopunks','xrc','cryptobatz-by-ozzy-osbourne','mutant-ape-yacht-club','lil-heroes-by-edgar-plans']\n",
    "\n",
    "#trigger function\n",
    "get_floor(projects)"
   ]
  }
 ],
 "metadata": {
  "kernelspec": {
   "display_name": "Python 3",
   "language": "python",
   "name": "python3"
  },
  "language_info": {
   "codemirror_mode": {
    "name": "ipython",
    "version": 3
   },
   "file_extension": ".py",
   "mimetype": "text/x-python",
   "name": "python",
   "nbconvert_exporter": "python",
   "pygments_lexer": "ipython3",
   "version": "3.8.8"
  }
 },
 "nbformat": 4,
 "nbformat_minor": 5
}
